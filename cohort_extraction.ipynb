{
 "cells": [
  {
   "cell_type": "markdown",
   "metadata": {},
   "source": [
    "## Cohort Extraction Notebook\n",
    "\n",
    "Note: Notebook and SQL files have been heavily adapted from Christopher V. Cosgriff, MD, MPH work on sequential severity prediction for critically ill patients (Source: https://github.com/cosgriffc/seq-severityscore)\n",
    "\n",
    "<hr />\n",
    "Notebook for extracting data from eICU-CRD Database for GI Bleed patients.\n",
    "\n",
    "\n",
    "## Environment"
   ]
  },
  {
   "cell_type": "code",
   "execution_count": 1,
   "metadata": {},
   "outputs": [],
   "source": [
    "import pandas as pd\n",
    "import numpy as np\n",
    "import psycopg2\n",
    "from sklearn.model_selection import train_test_split\n",
    "\n",
    "dbname = 'eicu'\n",
    "schema_name = 'eicu_crd'\n",
    "query_schema = 'SET search_path TO ' + schema_name + ';'\n",
    "con = psycopg2.connect(dbname=dbname)"
   ]
  },
  {
   "cell_type": "markdown",
   "metadata": {},
   "source": [
    "## Materialized Views\n",
    "\n",
    "Create materialized views for faster extraction of data from the eICU-CRD database in later queries"
   ]
  },
  {
   "cell_type": "code",
   "execution_count": 2,
   "metadata": {},
   "outputs": [],
   "source": [
    "def execute_query_safely(sql, con):\n",
    "    cur = con.cursor()\n",
    "    try:\n",
    "        cur.execute(sql)\n",
    "    except:\n",
    "        cur.execute('rollback;')\n",
    "        raise\n",
    "    finally:\n",
    "        cur.close()\n",
    "    return\n",
    "\n",
    "def generate_materialized_view(query_file, con, query_schema):\n",
    "    with open(query_file) as fp:\n",
    "        query = ''.join(fp.readlines())\n",
    "    print('Generating materialized view using {} ...'.format(query_file), end=' ')\n",
    "    execute_query_safely(query_schema + query, con)\n",
    "    print('done.')"
   ]
  },
  {
   "cell_type": "markdown",
   "metadata": {},
   "source": [
    "Generate the materialized views:"
   ]
  },
  {
   "cell_type": "code",
   "execution_count": 3,
   "metadata": {},
   "outputs": [
    {
     "name": "stdout",
     "output_type": "stream",
     "text": [
      "Generating materialized view using ./sql/vitalsfirstday.sql ... done.\n",
      "Generating materialized view using ./sql/labsfirstday.sql ... done.\n",
      "Generating materialized view using ./sql/treatmentfirstday.sql ... done.\n"
     ]
    }
   ],
   "source": [
    "generate_materialized_view('./sql/vitalsfirstday.sql', con, query_schema)\n",
    "generate_materialized_view('./sql/labsfirstday.sql', con, query_schema)\n",
    "generate_materialized_view('./sql/treatmentfirstday.sql', con, query_schema)"
   ]
  },
  {
   "cell_type": "markdown",
   "metadata": {},
   "source": [
    "## Load Features"
   ]
  },
  {
   "cell_type": "markdown",
   "metadata": {},
   "source": [
    "Extract patients with `GIBLEED` as their current diagnosis. Extract other relevant features from `patient`, `apachepredvar` and `apachepatientresult`, extract other comorbidities also from current `diagnosis`."
   ]
  },
  {
   "cell_type": "code",
   "execution_count": 4,
   "metadata": {},
   "outputs": [
    {
     "data": {
      "text/plain": [
       "(6397, 34)"
      ]
     },
     "execution_count": 4,
     "metadata": {},
     "output_type": "execute_result"
    }
   ],
   "source": [
    "base_cohort_query = query_schema + '''\n",
    "\n",
    "-- Check diagnosis table for comorbidities, note: they might not be major or primary diagnosis\n",
    "WITH comorbid AS (\n",
    "    SELECT \n",
    "        d.patientunitstayid\n",
    "        , MAX(CASE\n",
    "            WHEN LOWER(d.diagnosisstring) LIKE '%copd%' THEN 1\n",
    "            ELSE 0\n",
    "            END) AS copd\n",
    "        , MAX(CASE\n",
    "            WHEN LOWER(d.diagnosisstring) LIKE '%coronary artery disease%' THEN 1\n",
    "            ELSE 0\n",
    "            END) AS cad\n",
    "        , MAX(CASE\n",
    "            WHEN LOWER(d.diagnosisstring) LIKE '%atrial fibrillation%' THEN 1\n",
    "            ELSE 0\n",
    "            END) AS afib\n",
    "        , MAX(CASE\n",
    "            WHEN LOWER(d.diagnosisstring) LIKE '%chronic kidney disease%' THEN 1\n",
    "            ELSE 0\n",
    "            END) AS ckd\n",
    "    FROM diagnosis AS d\n",
    "    GROUP BY d.patientunitstayid\n",
    ")\n",
    "\n",
    "SELECT \n",
    "       -- Patient characteristics\n",
    "        p.patientunitstayid, p.age, p.gender, p.ethnicity, p.admissionheight AS height\n",
    "       , p.admissionweight AS weight , p.unittype AS unit_type, p.unitadmitsource\n",
    "       , p.unitdischargeoffset AS unit_los, p.hospitaldischargeoffset AS hospital_los\n",
    "       -- GCS\n",
    "       , a.day1meds AS gcs_meds, a.day1verbal AS gcs_verbal, a.day1motor AS gcs_motor, a.day1eyes AS gcs_eyes\n",
    "       -- Admision diagnosis\n",
    "       , a.admitdiagnosis AS admit_diagnosis\n",
    "       -- Comorbid burden\n",
    "       , a.hepaticFailure AS hepatic_failure, a.metastaticCancer AS metastatic_cancer\n",
    "       , a.immunosuppression AS immunosuppression, a.cirrhosis AS cirrhosis, a.diabetes AS diabetes\n",
    "       , c.copd AS copd, c.cad AS cad, c.afib AS afib, c.ckd AS ckd\n",
    "       -- Readmission, MI in last 6 months\n",
    "       , a.readmit AS apache_readmit, a.midur AS apache_midur\n",
    "       -- Ventilation, Intubation\n",
    "       , a.oOBVentDay1 AS apache_ventday1, a.oOBIntubDay1 AS apache_intubday1\n",
    "       -- O2 stats\n",
    "       , a.day1fio2 AS apache_fio2, a.day1pao2 AS apache_pao2, (a.day1pao2 / a.day1fio2) AS apache_o2ratio\n",
    "       -- Apache predicted mortality, Apache score, Mortality\n",
    "       , CAST(o.predictedhospitalmortality AS float) AS apache_prediction, o.apachescore AS apache_score, o.actualhospitalmortality AS hospital_expiration\n",
    "FROM patient p\n",
    "INNER JOIN apachepredvar a\n",
    "ON p.patientunitstayid = a.patientunitstayid\n",
    "INNER JOIN apachepatientresult o\n",
    "ON p.patientunitstayid = o.patientunitstayid\n",
    "LEFT JOIN comorbid c\n",
    "ON p.patientunitstayid = c.patientunitstayid\n",
    "WHERE a.admitdiagnosis LIKE ('%GIBLEED%')\n",
    "    AND o.apacheversion LIKE 'IVa'\n",
    "    AND o.apachescore > 0\n",
    "ORDER BY patientunitstayid;\n",
    "'''\n",
    "base_cohort = pd.read_sql_query(base_cohort_query, con)\n",
    "base_cohort.shape"
   ]
  },
  {
   "cell_type": "code",
   "execution_count": 5,
   "metadata": {},
   "outputs": [
    {
     "data": {
      "text/plain": [
       "array(['UNKGIBLEED', 'UGIBLEED', 'LOWGIBLEED', 'S-UGIBLEED', 'S-LGIBLEED'],\n",
       "      dtype=object)"
      ]
     },
     "execution_count": 5,
     "metadata": {},
     "output_type": "execute_result"
    }
   ],
   "source": [
    "# Types of GI Bleed\n",
    "base_cohort['admit_diagnosis'].unique()"
   ]
  },
  {
   "cell_type": "markdown",
   "metadata": {},
   "source": [
    "Of the 200,859 patients in the database, 6,397 have admission diagnosis of GI Bleed. We will extract lab and vital features for these patients.  "
   ]
  },
  {
   "cell_type": "code",
   "execution_count": 6,
   "metadata": {},
   "outputs": [
    {
     "data": {
      "text/plain": [
       "(192320, 73)"
      ]
     },
     "execution_count": 6,
     "metadata": {},
     "output_type": "execute_result"
    }
   ],
   "source": [
    "feature_set_query = query_schema + '''\n",
    "\n",
    "SELECT v.patientunitstayid, v.HR_Mean, v.SBP_periodic_Mean, v.DBP_periodic_Mean\n",
    "    , v.MAP_periodic_Mean, v.SBP_aperiodic_Mean, v.DBP_aperiodic_Mean\n",
    "    , v.MAP_aperiodic_Mean, v.RR_Mean, v.SpO2_Mean, v.TempC_Mean\n",
    "    , ALBUMIN_min, ALBUMIN_max \n",
    "    , AMYLASE_min, AMYLASE_max\n",
    "    , BICARBONATE_min, BICARBONATE_max\n",
    "    , BUN_min, BUN_max\n",
    "    , CPK_min, CPK_max\n",
    "    , BILIRUBIN_min, BILIRUBIN_max\n",
    "    , IONCALCIUM_min, IONCALCIUM_max\n",
    "    , CREATININE_min, CREATININE_max\n",
    "    , GLUCOSE_min, GLUCOSE_max\n",
    "    , HEMATOCRIT_min, HEMATOCRIT_max\n",
    "    , FIBRINOGEN_min, FIBRINOGEN_max\n",
    "    , LIPASE_min, LIPASE_max\n",
    "    , HEMOGLOBIN_min, HEMOGLOBIN_max\n",
    "    , LACTATE_min, LACTATE_max\n",
    "    , LYMPHS_min, LYMPHS_max\n",
    "    , PLATELET_min, PLATELET_max\n",
    "    , PMN_min, PMN_max\n",
    "    , POTASSIUM_min, POTASSIUM_max\n",
    "    , PTT_min, PTT_max\n",
    "    , INR_min, INR_max\n",
    "    , PT_min, PT_max\n",
    "    , SODIUM_min, SODIUM_max\n",
    "    , TROPI_min, TROPI_max\n",
    "    , WBC_min, WBC_max\n",
    "    , ALT_min, ALT_max\n",
    "    , AST_min, AST_max\n",
    "    , ALKPHOS_min, ALKPHOS_max\n",
    "    , t.abx, t.vasopressor, t.antiarr, t.sedative, t.diuretic, t.blood_product_prbc,t.blood_product_other, t.antiinf\n",
    "FROM vitalsfirstday v\n",
    "LEFT JOIN labsfirstday l\n",
    "ON v.patientunitstayid = l.patientunitstayid\n",
    "LEFT OUTER JOIN treatmentfirstday t\n",
    "ON v.patientunitstayid = t.patientunitstayid;\n",
    "'''\n",
    "\n",
    "feature_set = pd.read_sql_query(feature_set_query, con)\n",
    "feature_set.shape"
   ]
  },
  {
   "cell_type": "markdown",
   "metadata": {},
   "source": [
    "Merge the two dataframes using _inner join_ to ensure that patients in cohort have vital sign recordings in `vitalsperiodic`."
   ]
  },
  {
   "cell_type": "code",
   "execution_count": 13,
   "metadata": {},
   "outputs": [
    {
     "data": {
      "text/plain": [
       "(6351, 106)"
      ]
     },
     "execution_count": 13,
     "metadata": {},
     "output_type": "execute_result"
    }
   ],
   "source": [
    "cohort = pd.merge(left=base_cohort, right=feature_set, how='inner', on='patientunitstayid')\n",
    "cohort.shape"
   ]
  },
  {
   "cell_type": "markdown",
   "metadata": {},
   "source": [
    "Here we go from 6,397 to 6,351. The missing 46 did not have recorded vitals."
   ]
  },
  {
   "cell_type": "markdown",
   "metadata": {},
   "source": [
    "## Inclusion and Exclusion Criteria\n"
   ]
  },
  {
   "cell_type": "markdown",
   "metadata": {},
   "source": [
    "__1. Age $\\geq$ 18, and Not Missing__"
   ]
  },
  {
   "cell_type": "code",
   "execution_count": 14,
   "metadata": {},
   "outputs": [
    {
     "data": {
      "text/plain": [
       "(6348, 106)"
      ]
     },
     "execution_count": 14,
     "metadata": {},
     "output_type": "execute_result"
    }
   ],
   "source": [
    "# Per Rodrigo, the median age for >89 pt in eICU is 93\n",
    "cohort.loc[cohort.age == '> 89', 'age'] = 93.0\n",
    "cohort = cohort.loc[cohort.age != '', :]\n",
    "cohort.age = cohort.age.astype('float64')\n",
    "cohort = cohort.loc[cohort.age >= 18., :]\n",
    "cohort.shape"
   ]
  },
  {
   "cell_type": "markdown",
   "metadata": {},
   "source": [
    "__2. LoS $\\geq$ 4hrs__"
   ]
  },
  {
   "cell_type": "code",
   "execution_count": 15,
   "metadata": {},
   "outputs": [
    {
     "data": {
      "text/plain": [
       "(6348, 106)"
      ]
     },
     "execution_count": 15,
     "metadata": {},
     "output_type": "execute_result"
    }
   ],
   "source": [
    "cohort = cohort.loc[cohort.unit_los >= 240, :]\n",
    "cohort.shape"
   ]
  },
  {
   "cell_type": "markdown",
   "metadata": {},
   "source": [
    "__3. Remove Surgery Related Bleed __"
   ]
  },
  {
   "cell_type": "code",
   "execution_count": 16,
   "metadata": {},
   "outputs": [
    {
     "data": {
      "text/plain": [
       "(6241, 106)"
      ]
     },
     "execution_count": 16,
     "metadata": {},
     "output_type": "execute_result"
    }
   ],
   "source": [
    "cohort = cohort[~cohort.admit_diagnosis.isin(['S-UGIBLEED', 'S-LGIBLEED'])]\n",
    "cohort.shape"
   ]
  },
  {
   "cell_type": "markdown",
   "metadata": {},
   "source": [
    "__4. Remove Outliers __\n"
   ]
  },
  {
   "cell_type": "markdown",
   "metadata": {},
   "source": [
    "__a. Weight $\\geq$ 50 and Weight $\\leq$ 300 __"
   ]
  },
  {
   "cell_type": "code",
   "execution_count": 17,
   "metadata": {},
   "outputs": [
    {
     "data": {
      "text/plain": [
       "(5753, 106)"
      ]
     },
     "execution_count": 17,
     "metadata": {},
     "output_type": "execute_result"
    }
   ],
   "source": [
    "cohort = cohort[(cohort.weight >= 50) & (cohort.weight <= 300)]\n",
    "cohort.shape"
   ]
  },
  {
   "cell_type": "markdown",
   "metadata": {},
   "source": [
    "__b. Height $\\geq$ 50 and Height $\\leq$ 250__"
   ]
  },
  {
   "cell_type": "code",
   "execution_count": 18,
   "metadata": {},
   "outputs": [
    {
     "data": {
      "text/plain": [
       "(5691, 106)"
      ]
     },
     "execution_count": 18,
     "metadata": {},
     "output_type": "execute_result"
    }
   ],
   "source": [
    "cohort = cohort[(cohort.height <= 250) & (cohort.height >= 50)]\n",
    "cohort.shape"
   ]
  },
  {
   "cell_type": "code",
   "execution_count": 19,
   "metadata": {},
   "outputs": [],
   "source": [
    "# Save cohort before cleaning and feature engineering\n",
    "cohort.to_csv('./extraction/data/extracted_cohort_all.csv', index=False)"
   ]
  },
  {
   "cell_type": "markdown",
   "metadata": {},
   "source": [
    "## Cleaning, Formatting and Feature Engineering\n",
    "\n",
    "Drop variables from the pull since both min/max values are not needed, keep only the most _abnormal_ laboratory value in the first 24 hours of ICU stay. \n",
    "\n",
    "* The minimum value for: bicarbonate, platelets, hemoglobin, fibrinogen, and hematocrit\n",
    "* The maximum value for: creatinine, AST, ALT, alkalin phos., BUN, bilirubin, PT/INR, lactate, troponin I, amylase, lipase, creatinine phosphokinase, albumin and ioncalcium.\n",
    "* For sodium, the transformation is similar to Cosgriff et al. i.e. 'which aberrantly deviates bidirectionally, the most abnormal value was defined as the value with greatest deviation from the normal range boundaries'.\n",
    "    * This transformation can be applied to glucose and potassium as well.\n",
    "* For white blood cell and neutrophil counts, the most abnormal value was chosen."
   ]
  },
  {
   "cell_type": "code",
   "execution_count": 21,
   "metadata": {},
   "outputs": [],
   "source": [
    "# for the unidirectional abberations, just drop what isn't needed\n",
    "lab_drop = ['bicarbonate_max', 'platelet_max', \n",
    "            'hemoglobin_max', 'fibrinogen_max', 'hematocrit_max', 'albumin_max', 'ioncalcium_max',\n",
    "            'creatinine_min', 'alt_min','ast_min', 'alkphos_min',\n",
    "            'bun_min', 'bilirubin_min', 'pt_min','ptt_min', 'inr_min', 'lactate_min', \n",
    "            'tropi_min', 'amylase_min', 'lipase_min', 'cpk_min']\n",
    "cohort = cohort.drop(lab_drop, axis=1)\n",
    "\n",
    "# sodium, deviates bidirectionally\n",
    "sodium_check = abs(cohort.sodium_min - 135.) >= abs(cohort.sodium_max - 145.)\n",
    "sodium = np.empty(len(cohort.index), dtype='float64')\n",
    "sodium[sodium_check] = cohort.sodium_min[sodium_check]\n",
    "sodium[~sodium_check] = cohort.sodium_max[~sodium_check]\n",
    "cohort = cohort.assign(sodium=sodium)\n",
    "cohort = cohort.drop(['sodium_min', 'sodium_max'], axis=1)\n",
    "\n",
    "# potassium, deviates bidirectionally, same treatment then\n",
    "potassium_check = abs(cohort.potassium_min - 3.5) >= abs(cohort.potassium_max - 5.0)\n",
    "potassium = np.empty(len(cohort.index), dtype='float64')\n",
    "potassium[potassium_check] = cohort.potassium_min[potassium_check]\n",
    "potassium[~potassium_check] = cohort.potassium_max[~potassium_check]\n",
    "cohort = cohort.assign(potassium=potassium)\n",
    "cohort = cohort.drop(['potassium_min', 'potassium_max'], axis=1)\n",
    "\n",
    "# wbc counts\n",
    "wbc_check = cohort.wbc_min < 2\n",
    "pmn_check = cohort.pmn_min < 45\n",
    "lym_check = cohort.lymphs_min < 20\n",
    "\n",
    "wbc = np.empty(len(cohort.index), dtype='float64')\n",
    "wbc[wbc_check] = cohort.wbc_min[wbc_check]\n",
    "wbc[~wbc_check] = cohort.wbc_max[~wbc_check]\n",
    "cohort = cohort.assign(wbc=wbc)\n",
    "cohort = cohort.drop(['wbc_min', 'wbc_max'], axis=1)\n",
    "\n",
    "pmn = np.empty(len(cohort.index), dtype='float64')\n",
    "pmn[pmn_check] = cohort.pmn_min[pmn_check]\n",
    "pmn[~pmn_check] = cohort.pmn_max[~pmn_check]\n",
    "cohort = cohort.assign(pmn=pmn)\n",
    "cohort = cohort.drop(['pmn_min', 'pmn_max'], axis=1)\n",
    "\n",
    "lym = np.empty(len(cohort.index), dtype='float64')\n",
    "lym[lym_check] = cohort.lymphs_min[lym_check]\n",
    "lym[~lym_check] = cohort.lymphs_max[~lym_check]\n",
    "cohort = cohort.assign(lym=lym)\n",
    "cohort = cohort.drop(['lymphs_min', 'lymphs_max'], axis=1)"
   ]
  },
  {
   "cell_type": "markdown",
   "metadata": {},
   "source": [
    "Drop variables which are redundant or unreliable, and in some cases one source is better than another:\n",
    "\n",
    "* Use aperiodic BP instead of periodic\n",
    "* Drop temperature; it is an unreliable signal when automatically captured\n",
    "* Drop PaO2/FiO2 from APACHE and instead just use the PaO2 values derived directly from laboratory data\n",
    "* Drop unit admit source and hospital LoS.\n",
    "* Relabel missing values with `np.nan` and not -1 as is present in some of the eICU tables (i.e. apache table)"
   ]
  },
  {
   "cell_type": "code",
   "execution_count": 22,
   "metadata": {},
   "outputs": [],
   "source": [
    "cohort = cohort.replace(-1, np.nan)\n",
    "cohort = cohort.drop(['sbp_periodic_mean', 'dbp_periodic_mean', 'map_periodic_mean',\n",
    "                      'tempc_mean', 'apache_pao2', 'apache_fio2', 'apache_o2ratio', 'hospital_los', \n",
    "                      'unitadmitsource'], axis=1)"
   ]
  },
  {
   "cell_type": "code",
   "execution_count": 23,
   "metadata": {},
   "outputs": [],
   "source": [
    "# Before feature engineering save cohort\n",
    "cohort.to_csv('./extraction/data/cohort.csv', index=False)"
   ]
  },
  {
   "cell_type": "markdown",
   "metadata": {},
   "source": [
    "Drop these variables since they either indecate severity or help peak in the future\n",
    "* Drop APACHE score\n",
    "* Drop unit LoS variables since they would let our models peek into the future"
   ]
  },
  {
   "cell_type": "code",
   "execution_count": 24,
   "metadata": {},
   "outputs": [],
   "source": [
    "# Drop Apache score and unit LoS\n",
    "cohort = cohort.drop(['apache_score','unit_los'], axis=1)"
   ]
  },
  {
   "cell_type": "markdown",
   "metadata": {},
   "source": [
    "Additional variables to drop, these variables are either:\n",
    "\n",
    "_1_ Found to be not statistically significant with hospital_expiration \n",
    "_2_ Weakly correlated with hospital_expiration \n",
    "_3_ Strongly correlated with another included feature\n",
    "_4_ Significant missing data\n",
    "\n",
    " \n",
    "**Category 1**\n",
    "* Drop Height, Weight, Gender, Ethnicity\n",
    "* Drop Unit Type\n",
    "* Drop Diabetes, COPD, CAD, CKD, AFIB, Cirrhosis, Hepatic failure\n",
    "* Drop Sedative, Diuretic, Antiinf\n",
    "* Drop Apache MI\n",
    "* Drop Sodium, Glucose (min)\n",
    "\n",
    "**Category 2**\n",
    "* Drop GCS Meds\n",
    "\n",
    "**Category 3**\n",
    "* Drop SBP, DBP (w/MAP)\n",
    "* Apache Ventilation (w/ Apache Intubation)\n",
    "* Drop ALT (w/ AST)\n",
    "* Drop Hematocrit (w/ Hemoglobin)\n",
    "* Drop Lym (w/PMN)\n",
    "\n",
    "**Category 4**\n",
    "* Drop Fibrinogen (91%)\n",
    "* Drop TropI (78%)\n",
    "* Drop Ion Calcium (83%)\n",
    "* Drop CPK (84%)\n",
    "* Drop Amylase (94%) \n",
    "* Drop Lipase (73%)\n"
   ]
  },
  {
   "cell_type": "code",
   "execution_count": 25,
   "metadata": {},
   "outputs": [],
   "source": [
    "# Drop features\n",
    "cohort = cohort.drop(['height', 'weight','gender','ethnicity',\n",
    "                      'unit_type',\n",
    "                      'diabetes', 'copd', 'cad', 'ckd', 'afib','cirrhosis', 'hepatic_failure',\n",
    "                      'sedative', 'diuretic', 'antiinf',\n",
    "                      'apache_midur', \n",
    "                      'sodium','glucose_min'\n",
    "                     ], axis=1)\n",
    "\n",
    "cohort = cohort.drop(['gcs_meds',\n",
    "                      ], axis=1)\n",
    "\n",
    "cohort = cohort.drop(['sbp_aperiodic_mean','dbp_aperiodic_mean',\n",
    "                      'apache_ventday1',\n",
    "                      'alt_max',\n",
    "                      'hematocrit_min',\n",
    "                      'lym',\n",
    "                     ], axis=1)\n",
    "\n",
    "cohort = cohort.drop(['tropi_max',\n",
    "                      'fibrinogen_min',\n",
    "                      'ioncalcium_min',\n",
    "                      'cpk_max',\n",
    "                      'amylase_max', 'lipase_max',\n",
    "                     ], axis=1)"
   ]
  },
  {
   "cell_type": "markdown",
   "metadata": {},
   "source": [
    "Create the following features for modeling\n",
    "* Convert admission diagnosis to one-hot-encoded \n",
    "* Combine GCS sub-parts to one GCS score"
   ]
  },
  {
   "cell_type": "code",
   "execution_count": 26,
   "metadata": {},
   "outputs": [],
   "source": [
    "adx_dummies = pd.get_dummies(cohort.admit_diagnosis, 'adx', drop_first=True)\n",
    "cohort = pd.concat([cohort, adx_dummies], axis=1)\n",
    "cohort = cohort.drop('admit_diagnosis', axis=1)"
   ]
  },
  {
   "cell_type": "code",
   "execution_count": 27,
   "metadata": {},
   "outputs": [],
   "source": [
    "# GCS\n",
    "gcs_net = cohort['gcs_eyes'] + cohort['gcs_motor'] + cohort['gcs_verbal'] \n",
    "cohort['gcs'] = gcs_net\n",
    "cohort = cohort.drop(['gcs_eyes','gcs_motor','gcs_verbal'], axis=1)"
   ]
  },
  {
   "cell_type": "markdown",
   "metadata": {},
   "source": [
    "## Save Train/Test Split of Features and Label\n",
    "\n",
    "Save the outcome variable (`hospital expiration`) and APACHE prediction"
   ]
  },
  {
   "cell_type": "code",
   "execution_count": 28,
   "metadata": {},
   "outputs": [],
   "source": [
    "label = (cohort.hospital_expiration == 'EXPIRED').astype('int')\n",
    "apache_pred = cohort.apache_prediction\n",
    "cohort = cohort.drop(['hospital_expiration', 'apache_prediction'], axis=1)"
   ]
  },
  {
   "cell_type": "markdown",
   "metadata": {},
   "source": [
    "Train and test split."
   ]
  },
  {
   "cell_type": "code",
   "execution_count": 29,
   "metadata": {},
   "outputs": [],
   "source": [
    "train_X, test_X, train_y, test_y, train_apache, test_apache = train_test_split(cohort, label, apache_pred, test_size=0.20, stratify = label,random_state=42)"
   ]
  },
  {
   "cell_type": "markdown",
   "metadata": {},
   "source": [
    "Save to CSV file for model training purpose"
   ]
  },
  {
   "cell_type": "code",
   "execution_count": 30,
   "metadata": {},
   "outputs": [],
   "source": [
    "train_X.to_csv('./extraction/data/train_X.csv', index=False)\n",
    "train_y.to_csv('./extraction/data/train_y.csv', index=False, header=True)\n",
    "train_apache.to_csv('./extraction/data/train_apache.csv', index=False, header=True)\n",
    "\n",
    "test_X.to_csv('./extraction/data/test_X.csv', index=False)\n",
    "test_y.to_csv('./extraction/data/test_y.csv', index=False, header=True)\n",
    "test_apache.to_csv('./extraction/data/test_apache.csv', index=False, header=True)"
   ]
  }
 ],
 "metadata": {
  "kernelspec": {
   "display_name": "Python 3",
   "language": "python",
   "name": "python3"
  },
  "language_info": {
   "codemirror_mode": {
    "name": "ipython",
    "version": 3
   },
   "file_extension": ".py",
   "mimetype": "text/x-python",
   "name": "python",
   "nbconvert_exporter": "python",
   "pygments_lexer": "ipython3",
   "version": "3.6.8"
  }
 },
 "nbformat": 4,
 "nbformat_minor": 2
}
